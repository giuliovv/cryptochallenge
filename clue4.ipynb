{
 "cells": [
  {
   "cell_type": "markdown",
   "metadata": {},
   "source": [
    "# Clue 4"
   ]
  },
  {
   "cell_type": "markdown",
   "metadata": {},
   "source": [
    "https://www.khanacademy.org/computing/computer-science/cryptography/cryptochallenge/a/clue-4"
   ]
  },
  {
   "cell_type": "markdown",
   "metadata": {},
   "source": [
    "![hint1](img/hintclue4_2.jpg)"
   ]
  },
  {
   "cell_type": "markdown",
   "metadata": {},
   "source": [
    "![hint1](img/hintclue4_3.jpg)"
   ]
  },
  {
   "cell_type": "markdown",
   "metadata": {},
   "source": [
    "![hint1](img/hintclue4.jpg)"
   ]
  },
  {
   "cell_type": "markdown",
   "metadata": {},
   "source": [
    "![hint1](img/hintclue4_4.jpg)"
   ]
  },
  {
   "cell_type": "code",
   "execution_count": 77,
   "metadata": {},
   "outputs": [],
   "source": [
    "examplenewspaper = \"00100110000101001010010001001101010100101\"\n",
    "examplenewspapertext = \"brilliantdrivendemandingpassionatepercise\""
   ]
  },
  {
   "cell_type": "markdown",
   "metadata": {},
   "source": [
    "Vowel = 1 and consonant = 0 ?"
   ]
  },
  {
   "cell_type": "code",
   "execution_count": 78,
   "metadata": {},
   "outputs": [
    {
     "data": {
      "text/plain": [
       "True"
      ]
     },
     "execution_count": 78,
     "metadata": {},
     "output_type": "execute_result"
    }
   ],
   "source": [
    "\"\".join([str(int(lett in [\"a\",\"e\",\"i\",\"o\",\"u\"])) for lett in examplenewspapertext]) == examplenewspaper"
   ]
  },
  {
   "cell_type": "markdown",
   "metadata": {},
   "source": [
    "![newspaper](img/newspaper.jpg)"
   ]
  },
  {
   "cell_type": "code",
   "execution_count": 79,
   "metadata": {},
   "outputs": [
    {
     "data": {
      "text/plain": [
       "'0010010100110011001001000110010010101000010000101000101001010100001000010010100010010010101010010101001000110100101100100010000010000101100'"
      ]
     },
     "execution_count": 79,
     "metadata": {},
     "output_type": "execute_result"
    }
   ],
   "source": [
    "newspaper = \"thewholegraingoodnessofbluechipdividendstockshasitslimitsutilitystocksconsumerstaplespipelinestelecomsandrealestateinvestmentstrustshaveall\"\n",
    "binnewspaper = \"\".join([str(int(lett in [\"a\",\"e\",\"i\",\"o\",\"u\"])) for lett in newspaper])\n",
    "binnewspaper"
   ]
  },
  {
   "cell_type": "markdown",
   "metadata": {},
   "source": [
    "![clue4](img/clue4.jpg)"
   ]
  },
  {
   "cell_type": "markdown",
   "metadata": {},
   "source": [
    "![clue4](img/clue4_sol.jpg)"
   ]
  },
  {
   "cell_type": "code",
   "execution_count": 80,
   "metadata": {},
   "outputs": [],
   "source": [
    "transcript = [[2, 0], [3, 3], [2, 2], [2, 1], [0, 0], [3, 3], [3, 0], [0, 1], [0, 2], [2, 0], [2, 2], [0, 2], [3, 2], [2, 0], [1, 1], [3, 3], [0, 3], [3,0], [0,3],[3,2],[0,3],[0,0],[2,2],[0,1],[3,3],[2,3],[2,3],[1,1],[0,3],[2,2],[3,2],[3,1],[2,0],[0,1],[1,1],[0,3],[2,2],[2,0],[2,0],[2,0],[2,2],[3,3],[2,0],[1,2],[2,3],[1,3],[3,3],[2,2],[3,0],[3,3],[0,1],[2,0],[2,1],[1,0],[1,2],[1,1],[0,0],[3,2],[2,3],[1,3],[2,2],[0,2],[0,0],[1,0],[3,1],[0,2],[3,3],[2,0],[3,1],[0,3],[1,2],[0,1],[1,1],[3,3],[3,2],[2,3],[0,2],[0,1],[0,0],[3,2],[1,0],[1,0],[3,0],[0,1],[1,0],[0,2],[0,0],[3,0],[2,3],[3,1],[1,0],[0,3],[0,3],[0,1],[0,2],[3,3],[0,2],[3,2],[3,0],[3,1],[2,3],[3,3],[2,0],[0,2],[1,2],[3,3],[2,0],[0,2],[1,2],[3,3],[3,0],[0,0],[3,0],[1,2],[3,0],[1,3],[0,3],[0,1],[0,3],[0,3],[2,3],[2,2],[0,2],[3,0],[2,0],[0,3],[0,1],[2,3],[3,2],[2,3],[0,2],[0,2],[3,1],[2,0],[2,3],[0,2],[0,2],[3,1],[2,0],[2,3],[1,3],[3,0],[0,2]]"
   ]
  },
  {
   "cell_type": "code",
   "execution_count": 81,
   "metadata": {},
   "outputs": [
    {
     "data": {
      "text/plain": [
       "143"
      ]
     },
     "execution_count": 81,
     "metadata": {},
     "output_type": "execute_result"
    }
   ],
   "source": [
    "len(transcript)"
   ]
  },
  {
   "cell_type": "code",
   "execution_count": 82,
   "metadata": {},
   "outputs": [
    {
     "data": {
      "text/plain": [
       "[['0b10', '0b00'],\n",
       " ['0b11', '0b11'],\n",
       " ['0b10', '0b10'],\n",
       " ['0b10', '0b01'],\n",
       " ['0b00', '0b00']]"
      ]
     },
     "execution_count": 82,
     "metadata": {},
     "output_type": "execute_result"
    }
   ],
   "source": [
    "bintranscript = [[format(fst, '#04b'), format(snd, '#04b')] for fst, snd in transcript]\n",
    "bintranscript[:5]"
   ]
  },
  {
   "cell_type": "code",
   "execution_count": 83,
   "metadata": {},
   "outputs": [
    {
     "data": {
      "text/plain": [
       "'10101111101010100000111111110000000010101010000011111010010111110000111100001111000000001010000011111010101001010000101011111111101000000101000010101010101010101010111110100101101001011111101011111111000010101010010101010101000011111010010110100000000001011111000011111010111100000101000001011111111110100000000000001111010101011111000001010000000011111010111101010000000000000000111100001111111111111010111110100000010111111010000001011111111100001111010111110101000000000000000010101010000011111010000000001010111110100000000011111010101000000000111110101010010111110000'"
      ]
     },
     "execution_count": 83,
     "metadata": {},
     "output_type": "execute_result"
    }
   ],
   "source": [
    "binunite = \"\".join([str(num[0].split(\"b\")[1])+str(num[0].split(\"b\")[1]) for num in bintranscript])\n",
    "binunite"
   ]
  },
  {
   "cell_type": "markdown",
   "metadata": {},
   "source": [
    "XOR bintranscript and newspaper"
   ]
  },
  {
   "cell_type": "code",
   "execution_count": 86,
   "metadata": {},
   "outputs": [
    {
     "data": {
      "text/plain": [
       "'1000101010011001001010111001010010100010111000100111000000001011001011100010011110010010000010011010100010010001101110001101111100100101110'"
      ]
     },
     "execution_count": 86,
     "metadata": {},
     "output_type": "execute_result"
    }
   ],
   "source": [
    "\"\".join([str(int(transc, 2) ^ int(newspap, 2)) for transc, newspap in zip(binunite[:len(binnewspaper)], binnewspaper)])"
   ]
  },
  {
   "cell_type": "markdown",
   "metadata": {},
   "source": [
    "Time for some kind of polybius square"
   ]
  }
 ],
 "metadata": {
  "kernelspec": {
   "display_name": "TF2",
   "language": "python",
   "name": "tf2"
  },
  "language_info": {
   "codemirror_mode": {
    "name": "ipython",
    "version": 3
   },
   "file_extension": ".py",
   "mimetype": "text/x-python",
   "name": "python",
   "nbconvert_exporter": "python",
   "pygments_lexer": "ipython3",
   "version": "3.6.8"
  }
 },
 "nbformat": 4,
 "nbformat_minor": 2
}
