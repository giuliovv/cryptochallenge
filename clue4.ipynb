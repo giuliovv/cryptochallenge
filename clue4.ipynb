{
 "cells": [
  {
   "cell_type": "markdown",
   "metadata": {},
   "source": [
    "# Clue 4"
   ]
  },
  {
   "cell_type": "markdown",
   "metadata": {},
   "source": [
    "https://www.khanacademy.org/computing/computer-science/cryptography/cryptochallenge/a/clue-4"
   ]
  },
  {
   "cell_type": "code",
   "execution_count": 123,
   "metadata": {},
   "outputs": [],
   "source": [
    "from textwrap import wrap\n",
    "\n",
    "import numpy as np\n",
    "import pandas as pd"
   ]
  },
  {
   "cell_type": "markdown",
   "metadata": {},
   "source": [
    "![hint1](img/hintclue4_2.jpg)"
   ]
  },
  {
   "cell_type": "markdown",
   "metadata": {},
   "source": [
    "![hint1](img/hintclue4_3.jpg)"
   ]
  },
  {
   "cell_type": "markdown",
   "metadata": {},
   "source": [
    "![hint1](img/hintclue4.jpg)"
   ]
  },
  {
   "cell_type": "markdown",
   "metadata": {},
   "source": [
    "![hint1](img/hintclue4_4.jpg)"
   ]
  },
  {
   "cell_type": "code",
   "execution_count": 104,
   "metadata": {},
   "outputs": [],
   "source": [
    "examplenewspaper = \"00100110000101001010010001001101010100101\"\n",
    "examplenewspapertext = \"brilliantdrivendemandingpassionatepercise\""
   ]
  },
  {
   "cell_type": "markdown",
   "metadata": {},
   "source": [
    "Vowel = 1 and consonant = 0 ?"
   ]
  },
  {
   "cell_type": "code",
   "execution_count": 105,
   "metadata": {},
   "outputs": [
    {
     "data": {
      "text/plain": [
       "True"
      ]
     },
     "execution_count": 105,
     "metadata": {},
     "output_type": "execute_result"
    }
   ],
   "source": [
    "\"\".join([str(int(lett in [\"a\",\"e\",\"i\",\"o\",\"u\"])) for lett in examplenewspapertext]) == examplenewspaper"
   ]
  },
  {
   "cell_type": "markdown",
   "metadata": {},
   "source": [
    "![newspaper](img/newspaper.jpg)"
   ]
  },
  {
   "cell_type": "code",
   "execution_count": 106,
   "metadata": {},
   "outputs": [],
   "source": [
    "#TODO complete newspaper trascription"
   ]
  },
  {
   "cell_type": "code",
   "execution_count": 107,
   "metadata": {},
   "outputs": [
    {
     "data": {
      "text/plain": [
       "'00100101001100110010010001100100101010000100001010001010010101000010000100101000100100101010100101010010001101001011001000100000100001011000100001100101000101000100010100010100100110100100100100110001001000010100010010010010010010100100101101001010010010100010100010101011001000010001100001100100101010001010001000100100011000110100101010011100101010001010010001100100101000010000110001011001000101000100100101001000010100100100010101001001001001010011001001010010100100100101000100110011001001101000101010000010000100100101010010100100100100010100011000100100010010001000100001001000100010101010001010101001000100101010101010100'"
      ]
     },
     "execution_count": 107,
     "metadata": {},
     "output_type": "execute_result"
    }
   ],
   "source": [
    "newspaper = \"thewholegraingoodnessofbluechipdividendstockshasitslimitsutilitystocksconsumerstaplespipelinestelecomsandrealestateinvestmentstrustshavealllostgroundoverthepastmonthevenwhilethebroadermarkethasbeenflatwiththebondmarketsignallinganexpectationofrisinginterestratesthefiveyearrallyforsteadybluechipdividendpayershasstalledshouldyoubescaredifyouownalotofthesestockseitherdirectlyorthroughmutualfundsorexchangetradedfundsdavidbaskinpresidentofbaskinfinancialserviceshasatwoprongedanswerkeepyourtopqualitydividendsstocksbutbepreparedtofollowhisfirmsexampleintrimmingholdingsinstockssuchastranscanadacorpkeyeracorpandpembinapipelinecorp\"\n",
    "binnewspaper = \"\".join([str(int(lett in [\"a\",\"e\",\"i\",\"o\",\"u\"])) for lett in newspaper])\n",
    "binnewspaper"
   ]
  },
  {
   "cell_type": "markdown",
   "metadata": {},
   "source": [
    "![clue4](img/clue4.jpg)"
   ]
  },
  {
   "cell_type": "markdown",
   "metadata": {},
   "source": [
    "![clue4](img/clue4_sol.jpg)"
   ]
  },
  {
   "cell_type": "code",
   "execution_count": 108,
   "metadata": {},
   "outputs": [],
   "source": [
    "transcript = [[2, 0], [3, 3], [2, 2], [2, 1], [0, 0], [3, 3], [3, 0], [0, 1], [0, 2], [2, 0], [2, 2], [0, 2], [3, 2], [2, 0], [1, 1], [3, 3], [0, 3], [3,0], [0,3],[3,2],[0,3],[0,0],[2,2],[0,1],[3,3],[2,3],[2,3],[1,1],[0,3],[2,2],[3,2],[3,1],[2,0],[0,1],[1,1],[0,3],[2,2],[2,0],[2,0],[2,0],[2,2],[3,3],[2,0],[1,2],[2,3],[1,3],[3,3],[2,2],[3,0],[3,3],[0,1],[2,0],[2,1],[1,0],[1,2],[1,1],[0,0],[3,2],[2,3],[1,3],[2,2],[0,2],[0,0],[1,0],[3,1],[0,2],[3,3],[2,0],[3,1],[0,3],[1,2],[0,1],[1,1],[3,3],[3,2],[2,3],[0,2],[0,1],[0,0],[3,2],[1,0],[1,0],[3,0],[0,1],[1,0],[0,2],[0,0],[3,0],[2,3],[3,1],[1,0],[0,3],[0,3],[0,1],[0,2],[3,3],[0,2],[3,2],[3,0],[3,1],[2,3],[3,3],[2,0],[0,2],[1,2],[3,3],[2,0],[0,2],[1,2],[3,3],[3,0],[0,0],[3,0],[1,2],[3,0],[1,3],[0,3],[0,1],[0,3],[0,3],[2,3],[2,2],[0,2],[3,0],[2,0],[0,3],[0,1],[2,3],[3,2],[2,3],[0,2],[0,2],[3,1],[2,0],[2,3],[0,2],[0,2],[3,1],[2,0],[2,3],[1,3],[3,0],[0,2]]"
   ]
  },
  {
   "cell_type": "code",
   "execution_count": 109,
   "metadata": {},
   "outputs": [
    {
     "data": {
      "text/plain": [
       "143"
      ]
     },
     "execution_count": 109,
     "metadata": {},
     "output_type": "execute_result"
    }
   ],
   "source": [
    "len(transcript)"
   ]
  },
  {
   "cell_type": "code",
   "execution_count": 110,
   "metadata": {},
   "outputs": [
    {
     "data": {
      "text/plain": [
       "[['0b10', '0b00'],\n",
       " ['0b11', '0b11'],\n",
       " ['0b10', '0b10'],\n",
       " ['0b10', '0b01'],\n",
       " ['0b00', '0b00']]"
      ]
     },
     "execution_count": 110,
     "metadata": {},
     "output_type": "execute_result"
    }
   ],
   "source": [
    "bintranscript = [[format(fst, '#04b'), format(snd, '#04b')] for fst, snd in transcript]\n",
    "bintranscript[:5]"
   ]
  },
  {
   "cell_type": "code",
   "execution_count": 111,
   "metadata": {},
   "outputs": [
    {
     "data": {
      "text/plain": [
       "'10101111101010100000111111110000000010101010000011111010010111110000111100001111000000001010000011111010101001010000101011111111101000000101000010101010101010101010111110100101101001011111101011111111000010101010010101010101000011111010010110100000000001011111000011111010111100000101000001011111111110100000000000001111010101011111000001010000000011111010111101010000000000000000111100001111111111111010111110100000010111111010000001011111111100001111010111110101000000000000000010101010000011111010000000001010111110100000000011111010101000000000111110101010010111110000'"
      ]
     },
     "execution_count": 111,
     "metadata": {},
     "output_type": "execute_result"
    }
   ],
   "source": [
    "binunite = \"\".join([str(num[0].split(\"b\")[1])+str(num[0].split(\"b\")[1]) for num in bintranscript])\n",
    "binunite"
   ]
  },
  {
   "cell_type": "markdown",
   "metadata": {},
   "source": [
    "XOR bintranscript and newspaper"
   ]
  },
  {
   "cell_type": "code",
   "execution_count": 118,
   "metadata": {},
   "outputs": [
    {
     "data": {
      "text/plain": [
       "'10001010100110010010101110010100101000101110001001110000000010110010111000100111100100100000100110101000100100011011100011011111001001011101100011001111101111101110101010110001001111111011001111001110001010111110000111000111010001011110111011101010010011111101100001010001110100010100100000111011010100101010001000101011001101101011101011001100101001110000101100110100101000010000001101010110111010111110011011101000000011011110010100010110110101011100011110100111100100100101000110011001001010010010101010001000111010000101010001011110001100010100100110001110000101111000'"
      ]
     },
     "execution_count": 118,
     "metadata": {},
     "output_type": "execute_result"
    }
   ],
   "source": [
    "postxor = \"\".join([str(int(transc, 2) ^ int(newspap, 2)) for transc, newspap in zip(binunite, binnewspaper[:len(binunite)])])\n",
    "postxor"
   ]
  },
  {
   "cell_type": "markdown",
   "metadata": {},
   "source": [
    "Time for some kind of polybius square"
   ]
  },
  {
   "cell_type": "code",
   "execution_count": 125,
   "metadata": {},
   "outputs": [
    {
     "data": {
      "text/plain": [
       "array([[4, 2],\n",
       "       [5, 1],\n",
       "       [4, 4],\n",
       "       [5, 3],\n",
       "       [4, 5]])"
      ]
     },
     "execution_count": 125,
     "metadata": {},
     "output_type": "execute_result"
    }
   ],
   "source": [
    "coordinates = np.array([int(num, 2) for num in wrap(postxor, 3)])[:-1].reshape(-1, 2)\n",
    "coordinates[:5]"
   ]
  },
  {
   "cell_type": "code",
   "execution_count": 128,
   "metadata": {},
   "outputs": [
    {
     "ename": "ValueError",
     "evalue": "cannot reshape array of size 35 into shape (6,6)",
     "output_type": "error",
     "traceback": [
      "\u001b[0;31m------------------------------------------------------------------------\u001b[0m",
      "\u001b[0;31mValueError\u001b[0m                             Traceback (most recent call last)",
      "\u001b[0;32m<ipython-input-128-02341c78527a>\u001b[0m in \u001b[0;36m<module>\u001b[0;34m\u001b[0m\n\u001b[0;32m----> 1\u001b[0;31m \u001b[0mpolybius\u001b[0m \u001b[0;34m=\u001b[0m \u001b[0mpd\u001b[0m\u001b[0;34m.\u001b[0m\u001b[0mDataFrame\u001b[0m\u001b[0;34m(\u001b[0m\u001b[0mnp\u001b[0m\u001b[0;34m.\u001b[0m\u001b[0marray\u001b[0m\u001b[0;34m(\u001b[0m\u001b[0mlist\u001b[0m\u001b[0;34m(\u001b[0m\u001b[0mfilter\u001b[0m\u001b[0;34m(\u001b[0m\u001b[0;32mlambda\u001b[0m \u001b[0ma\u001b[0m\u001b[0;34m:\u001b[0m \u001b[0ma\u001b[0m\u001b[0;34m!=\u001b[0m\u001b[0;34m\"z\"\u001b[0m\u001b[0;34m,\u001b[0m \u001b[0mlist\u001b[0m\u001b[0;34m(\u001b[0m\u001b[0mstring\u001b[0m\u001b[0;34m.\u001b[0m\u001b[0mascii_lowercase\u001b[0m \u001b[0;34m+\u001b[0m \u001b[0mstring\u001b[0m\u001b[0;34m.\u001b[0m\u001b[0mdigits\u001b[0m\u001b[0;34m)\u001b[0m\u001b[0;34m)\u001b[0m\u001b[0;34m)\u001b[0m\u001b[0;34m)\u001b[0m\u001b[0;34m.\u001b[0m\u001b[0mreshape\u001b[0m\u001b[0;34m(\u001b[0m\u001b[0;34m(\u001b[0m\u001b[0;36m6\u001b[0m\u001b[0;34m,\u001b[0m\u001b[0;36m6\u001b[0m\u001b[0;34m)\u001b[0m\u001b[0;34m)\u001b[0m\u001b[0;34m)\u001b[0m\u001b[0;34m\u001b[0m\u001b[0;34m\u001b[0m\u001b[0m\n\u001b[0m\u001b[1;32m      2\u001b[0m \u001b[0mpolybius\u001b[0m\u001b[0;34m\u001b[0m\u001b[0;34m\u001b[0m\u001b[0m\n",
      "\u001b[0;31mValueError\u001b[0m: cannot reshape array of size 35 into shape (6,6)"
     ]
    }
   ],
   "source": [
    "polybius = pd.DataFrame(np.array(list(filter(lambda a: a!=\"z\", list(string.ascii_lowercase + string.digits)))).reshape((6,6)))\n",
    "polybius"
   ]
  }
 ],
 "metadata": {
  "kernelspec": {
   "display_name": "TF2",
   "language": "python",
   "name": "tf2"
  },
  "language_info": {
   "codemirror_mode": {
    "name": "ipython",
    "version": 3
   },
   "file_extension": ".py",
   "mimetype": "text/x-python",
   "name": "python",
   "nbconvert_exporter": "python",
   "pygments_lexer": "ipython3",
   "version": "3.6.8"
  }
 },
 "nbformat": 4,
 "nbformat_minor": 2
}
