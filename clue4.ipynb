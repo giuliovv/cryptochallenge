{
 "cells": [
  {
   "cell_type": "markdown",
   "metadata": {},
   "source": [
    "# Clue 4"
   ]
  },
  {
   "cell_type": "markdown",
   "metadata": {},
   "source": [
    "https://www.khanacademy.org/computing/computer-science/cryptography/cryptochallenge/a/clue-4"
   ]
  },
  {
   "cell_type": "markdown",
   "metadata": {},
   "source": [
    "![hint1](img/hintclue4_2.jpg)"
   ]
  },
  {
   "cell_type": "markdown",
   "metadata": {},
   "source": [
    "![hint1](img/hintclue4_3.jpg)"
   ]
  },
  {
   "cell_type": "markdown",
   "metadata": {},
   "source": [
    "![hint1](img/hintclue4.jpg)"
   ]
  },
  {
   "cell_type": "markdown",
   "metadata": {},
   "source": [
    "![hint1](img/hintclue4_4.jpg)"
   ]
  },
  {
   "cell_type": "code",
   "execution_count": 39,
   "metadata": {},
   "outputs": [],
   "source": [
    "examplenewspaper = \"0010011000010100101001001001101010100101\"\n",
    "examplenewspapertext = \"brilliantdrivendemandingpassionateprecise\""
   ]
  },
  {
   "cell_type": "markdown",
   "metadata": {},
   "source": [
    "![newspaper](img/newspaper.jpg)"
   ]
  },
  {
   "cell_type": "markdown",
   "metadata": {},
   "source": [
    "![clue4](img/clue4.jpg)"
   ]
  },
  {
   "cell_type": "markdown",
   "metadata": {},
   "source": [
    "![clue4](img/clue4_sol.jpg)"
   ]
  },
  {
   "cell_type": "code",
   "execution_count": 23,
   "metadata": {},
   "outputs": [],
   "source": [
    "import string\n",
    "\n",
    "import numpy as np\n",
    "import pandas as pd"
   ]
  },
  {
   "cell_type": "code",
   "execution_count": 9,
   "metadata": {},
   "outputs": [],
   "source": [
    "transcript = [[2, 0], [3, 3], [2, 2], [2, 1], [0, 0], [3, 3], [3, 0], [0, 1], [0, 2], [2, 0], [2, 2], [0, 2], [3, 2], [2, 0], [1, 1], [3, 3], [0, 3], [3,0], [0,3],[3,2],[0,3],[0,0],[2,2],[0,1],[3,3],[2,3],[2,3],[1,1],[0,3],[2,2],[3,2],[3,1],[2,0],[0,1],[1,1],[0,3],[2,2],[2,0],[2,0],[2,0],[2,2],[3,3],[2,0],[1,2],[2,3],[1,3],[3,3],[2,2],[3,0],[3,3],[0,1],[2,0],[2,1],[1,0],[1,2],[1,1],[0,0],[3,2],[2,3],[1,3],[2,2],[0,2],[0,0],[1,0],[3,1],[0,2],[3,3],[2,0],[3,1],[0,3],[1,2],[0,1],[1,1],[3,3],[3,2],[2,3],[0,2],[0,1],[0,0],[3,2],[1,0],[1,0],[3,0],[0,1],[1,0],[0,2],[0,0],[3,0],[2,3],[3,1],[1,0],[0,3],[0,3],[0,1],[0,2],[3,3],[0,2],[3,2],[3,0],[3,1],[2,3],[3,3],[2,0],[0,2],[1,2],[3,3],[2,0],[0,2],[1,2],[3,3],[3,0],[0,0],[3,0],[1,2],[3,0],[1,3],[0,3],[0,1],[0,3],[0,3],[2,3],[2,2],[0,2],[3,0],[2,0],[0,3],[0,1],[2,3],[3,2],[2,3],[0,2],[0,2],[3,1],[2,0],[2,3],[0,2],[0,2],[3,1],[2,0],[2,3],[1,3],[3,0],[0,2]]"
   ]
  },
  {
   "cell_type": "code",
   "execution_count": 10,
   "metadata": {},
   "outputs": [
    {
     "data": {
      "text/plain": [
       "143"
      ]
     },
     "execution_count": 10,
     "metadata": {},
     "output_type": "execute_result"
    }
   ],
   "source": [
    "len(transcript)"
   ]
  },
  {
   "cell_type": "code",
   "execution_count": 30,
   "metadata": {},
   "outputs": [
    {
     "data": {
      "text/plain": [
       "[['0b10', '0b00'],\n",
       " ['0b11', '0b11'],\n",
       " ['0b10', '0b10'],\n",
       " ['0b10', '0b01'],\n",
       " ['0b00', '0b00']]"
      ]
     },
     "execution_count": 30,
     "metadata": {},
     "output_type": "execute_result"
    }
   ],
   "source": [
    "bintranscript = [[format(fst, '#04b'), format(snd, '#04b')] for fst, snd in transcript]\n",
    "bintranscript[:5]"
   ]
  },
  {
   "cell_type": "markdown",
   "metadata": {},
   "source": [
    "XOR bintranscript and newspaper"
   ]
  },
  {
   "cell_type": "code",
   "execution_count": 34,
   "metadata": {},
   "outputs": [
    {
     "data": {
      "text/plain": [
       "3"
      ]
     },
     "execution_count": 34,
     "metadata": {},
     "output_type": "execute_result"
    }
   ],
   "source": [
    "int(bintranscript[0][0], 2) ^ int(bintranscript[3][1], 2)"
   ]
  },
  {
   "cell_type": "code",
   "execution_count": 24,
   "metadata": {},
   "outputs": [
    {
     "data": {
      "text/html": [
       "<div>\n",
       "<style scoped>\n",
       "    .dataframe tbody tr th:only-of-type {\n",
       "        vertical-align: middle;\n",
       "    }\n",
       "\n",
       "    .dataframe tbody tr th {\n",
       "        vertical-align: top;\n",
       "    }\n",
       "\n",
       "    .dataframe thead th {\n",
       "        text-align: right;\n",
       "    }\n",
       "</style>\n",
       "<table border=\"1\" class=\"dataframe\">\n",
       "  <thead>\n",
       "    <tr style=\"text-align: right;\">\n",
       "      <th></th>\n",
       "      <th>0</th>\n",
       "      <th>1</th>\n",
       "      <th>2</th>\n",
       "      <th>3</th>\n",
       "      <th>4</th>\n",
       "    </tr>\n",
       "  </thead>\n",
       "  <tbody>\n",
       "    <tr>\n",
       "      <th>0</th>\n",
       "      <td>a</td>\n",
       "      <td>b</td>\n",
       "      <td>c</td>\n",
       "      <td>d</td>\n",
       "      <td>e</td>\n",
       "    </tr>\n",
       "    <tr>\n",
       "      <th>1</th>\n",
       "      <td>f</td>\n",
       "      <td>g</td>\n",
       "      <td>h</td>\n",
       "      <td>i</td>\n",
       "      <td>j</td>\n",
       "    </tr>\n",
       "    <tr>\n",
       "      <th>2</th>\n",
       "      <td>k</td>\n",
       "      <td>l</td>\n",
       "      <td>m</td>\n",
       "      <td>n</td>\n",
       "      <td>o</td>\n",
       "    </tr>\n",
       "    <tr>\n",
       "      <th>3</th>\n",
       "      <td>p</td>\n",
       "      <td>q</td>\n",
       "      <td>r</td>\n",
       "      <td>s</td>\n",
       "      <td>t</td>\n",
       "    </tr>\n",
       "    <tr>\n",
       "      <th>4</th>\n",
       "      <td>u</td>\n",
       "      <td>v</td>\n",
       "      <td>w</td>\n",
       "      <td>x</td>\n",
       "      <td>y</td>\n",
       "    </tr>\n",
       "  </tbody>\n",
       "</table>\n",
       "</div>"
      ],
      "text/plain": [
       "   0  1  2  3  4\n",
       "0  a  b  c  d  e\n",
       "1  f  g  h  i  j\n",
       "2  k  l  m  n  o\n",
       "3  p  q  r  s  t\n",
       "4  u  v  w  x  y"
      ]
     },
     "execution_count": 24,
     "metadata": {},
     "output_type": "execute_result"
    }
   ],
   "source": [
    "polybius = pd.DataFrame(np.array(list(filter(lambda a: a!=\"z\", list(string.ascii_lowercase)))).reshape((5,5)))\n",
    "polybius"
   ]
  }
 ],
 "metadata": {
  "kernelspec": {
   "display_name": "TF2",
   "language": "python",
   "name": "tf2"
  },
  "language_info": {
   "codemirror_mode": {
    "name": "ipython",
    "version": 3
   },
   "file_extension": ".py",
   "mimetype": "text/x-python",
   "name": "python",
   "nbconvert_exporter": "python",
   "pygments_lexer": "ipython3",
   "version": "3.6.8"
  }
 },
 "nbformat": 4,
 "nbformat_minor": 2
}
