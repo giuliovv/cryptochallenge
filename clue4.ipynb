{
 "cells": [
  {
   "cell_type": "markdown",
   "metadata": {},
   "source": [
    "![hint1](img/hintclue4_2.jpg)"
   ]
  },
  {
   "cell_type": "markdown",
   "metadata": {},
   "source": [
    "![hint1](img/hintclue4_3.jpg)"
   ]
  },
  {
   "cell_type": "markdown",
   "metadata": {},
   "source": [
    "![hint1](img/hintclue4.jpg)"
   ]
  },
  {
   "cell_type": "markdown",
   "metadata": {},
   "source": [
    "![clue4](img/clue4.jpg)"
   ]
  },
  {
   "cell_type": "markdown",
   "metadata": {},
   "source": [
    "![clue4](img/clue4_sol.jpg)"
   ]
  },
  {
   "cell_type": "markdown",
   "metadata": {},
   "source": [
    "https://www.khanacademy.org/computing/computer-science/cryptography/cryptochallenge/a/clue-4"
   ]
  },
  {
   "cell_type": "code",
   "execution_count": 9,
   "metadata": {},
   "outputs": [],
   "source": [
    "transcript = [[2, 0], [3, 3], [2, 2], [2, 1], [0, 0], [3, 3], [3, 0], [0, 1], [0, 2], [2, 0], [2, 2], [0, 2], [3, 2], [2, 0], [1, 1], [3, 3], [0, 3], [3,0], [0,3],[3,2],[0,3],[0,0],[2,2],[0,1],[3,3],[2,3],[2,3],[1,1],[0,3],[2,2],[3,2],[3,1],[2,0],[0,1],[1,1],[0,3],[2,2],[2,0],[2,0],[2,0],[2,2],[3,3],[2,0],[1,2],[2,3],[1,3],[3,3],[2,2],[3,0],[3,3],[0,1],[2,0],[2,1],[1,0],[1,2],[1,1],[0,0],[3,2],[2,3],[1,3],[2,2],[0,2],[0,0],[1,0],[3,1],[0,2],[3,3],[2,0],[3,1],[0,3],[1,2],[0,1],[1,1],[3,3],[3,2],[2,3],[0,2],[0,1],[0,0],[3,2],[1,0],[1,0],[3,0],[0,1],[1,0],[0,2],[0,0],[3,0],[2,3],[3,1],[1,0],[0,3],[0,3],[0,1],[0,2],[3,3],[0,2],[3,2],[3,0],[3,1],[2,3],[3,3],[2,0],[0,2],[1,2],[3,3],[2,0],[0,2],[1,2],[3,3],[3,0],[0,0],[3,0],[1,2],[3,0],[1,3],[0,3],[0,1],[0,3],[0,3],[2,3],[2,2],[0,2],[3,0],[2,0],[0,3],[0,1],[2,3],[3,2],[2,3],[0,2],[0,2],[3,1],[2,0],[2,3],[0,2],[0,2],[3,1],[2,0],[2,3],[1,3],[3,0],[0,2]]"
   ]
  },
  {
   "cell_type": "code",
   "execution_count": null,
   "metadata": {},
   "outputs": [],
   "source": []
  },
  {
   "cell_type": "code",
   "execution_count": null,
   "metadata": {},
   "outputs": [],
   "source": []
  }
 ],
 "metadata": {
  "kernelspec": {
   "display_name": "TF2",
   "language": "python",
   "name": "tf2"
  },
  "language_info": {
   "codemirror_mode": {
    "name": "ipython",
    "version": 3
   },
   "file_extension": ".py",
   "mimetype": "text/x-python",
   "name": "python",
   "nbconvert_exporter": "python",
   "pygments_lexer": "ipython3",
   "version": "3.6.8"
  }
 },
 "nbformat": 4,
 "nbformat_minor": 2
}
